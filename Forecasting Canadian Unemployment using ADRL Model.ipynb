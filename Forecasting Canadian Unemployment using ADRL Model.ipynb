{
 "cells": [
  {
   "cell_type": "code",
   "execution_count": 2,
   "metadata": {},
   "outputs": [],
   "source": [
    "import pandas as pd"
   ]
  },
  {
   "cell_type": "code",
   "execution_count": 3,
   "metadata": {},
   "outputs": [],
   "source": [
    "macro_data = pd.read_csv('Canadian-GDP-Unemployment-Data.csv')"
   ]
  },
  {
   "cell_type": "code",
   "execution_count": 4,
   "metadata": {},
   "outputs": [
    {
     "data": {
      "text/html": [
       "<div>\n",
       "<style scoped>\n",
       "    .dataframe tbody tr th:only-of-type {\n",
       "        vertical-align: middle;\n",
       "    }\n",
       "\n",
       "    .dataframe tbody tr th {\n",
       "        vertical-align: top;\n",
       "    }\n",
       "\n",
       "    .dataframe thead th {\n",
       "        text-align: right;\n",
       "    }\n",
       "</style>\n",
       "<table border=\"1\" class=\"dataframe\">\n",
       "  <thead>\n",
       "    <tr style=\"text-align: right;\">\n",
       "      <th></th>\n",
       "      <th>Date</th>\n",
       "      <th>GDP</th>\n",
       "      <th>UNEMP</th>\n",
       "    </tr>\n",
       "  </thead>\n",
       "  <tbody>\n",
       "    <tr>\n",
       "      <th>0</th>\n",
       "      <td>1961.01</td>\n",
       "      <td>343577</td>\n",
       "      <td>NaN</td>\n",
       "    </tr>\n",
       "    <tr>\n",
       "      <th>1</th>\n",
       "      <td>1961.02</td>\n",
       "      <td>352261</td>\n",
       "      <td>NaN</td>\n",
       "    </tr>\n",
       "    <tr>\n",
       "      <th>2</th>\n",
       "      <td>1961.03</td>\n",
       "      <td>360748</td>\n",
       "      <td>NaN</td>\n",
       "    </tr>\n",
       "    <tr>\n",
       "      <th>3</th>\n",
       "      <td>1961.04</td>\n",
       "      <td>365775</td>\n",
       "      <td>NaN</td>\n",
       "    </tr>\n",
       "    <tr>\n",
       "      <th>4</th>\n",
       "      <td>1962.01</td>\n",
       "      <td>375481</td>\n",
       "      <td>NaN</td>\n",
       "    </tr>\n",
       "  </tbody>\n",
       "</table>\n",
       "</div>"
      ],
      "text/plain": [
       "      Date     GDP  UNEMP\n",
       "0  1961.01  343577    NaN\n",
       "1  1961.02  352261    NaN\n",
       "2  1961.03  360748    NaN\n",
       "3  1961.04  365775    NaN\n",
       "4  1962.01  375481    NaN"
      ]
     },
     "execution_count": 4,
     "metadata": {},
     "output_type": "execute_result"
    }
   ],
   "source": [
    "macro_data.head()"
   ]
  },
  {
   "cell_type": "code",
   "execution_count": 6,
   "metadata": {},
   "outputs": [
    {
     "data": {
      "text/plain": [
       "<matplotlib.axes._subplots.AxesSubplot at 0x7f6e1ce3b438>"
      ]
     },
     "execution_count": 6,
     "metadata": {},
     "output_type": "execute_result"
    },
    {
     "data": {
      "image/png": "[encoded data removed]",
      "text/plain": [
       "<Figure size 432x288 with 1 Axes>"
      ]
     },
     "metadata": {
      "needs_background": "light"
     },
     "output_type": "display_data"
    }
   ],
   "source": [
    "macro_data['GDP'].plot()"
   ]
  },
  {
   "cell_type": "code",
   "execution_count": 20,
   "metadata": {},
   "outputs": [],
   "source": [
    "macro_data['GDP_Growth'] = macro_data['GDP'].pct_change()"
   ]
  },
  {
   "cell_type": "code",
   "execution_count": 21,
   "metadata": {},
   "outputs": [
    {
     "data": {
      "text/html": [
       "<div>\n",
       "<style scoped>\n",
       "    .dataframe tbody tr th:only-of-type {\n",
       "        vertical-align: middle;\n",
       "    }\n",
       "\n",
       "    .dataframe tbody tr th {\n",
       "        vertical-align: top;\n",
       "    }\n",
       "\n",
       "    .dataframe thead th {\n",
       "        text-align: right;\n",
       "    }\n",
       "</style>\n",
       "<table border=\"1\" class=\"dataframe\">\n",
       "  <thead>\n",
       "    <tr style=\"text-align: right;\">\n",
       "      <th></th>\n",
       "      <th>Date</th>\n",
       "      <th>GDP</th>\n",
       "      <th>UNEMP</th>\n",
       "      <th>GDP_Growth</th>\n",
       "    </tr>\n",
       "  </thead>\n",
       "  <tbody>\n",
       "    <tr>\n",
       "      <th>0</th>\n",
       "      <td>1961.01</td>\n",
       "      <td>343577</td>\n",
       "      <td>NaN</td>\n",
       "      <td>NaN</td>\n",
       "    </tr>\n",
       "    <tr>\n",
       "      <th>1</th>\n",
       "      <td>1961.02</td>\n",
       "      <td>352261</td>\n",
       "      <td>NaN</td>\n",
       "      <td>0.025275</td>\n",
       "    </tr>\n",
       "    <tr>\n",
       "      <th>2</th>\n",
       "      <td>1961.03</td>\n",
       "      <td>360748</td>\n",
       "      <td>NaN</td>\n",
       "      <td>0.024093</td>\n",
       "    </tr>\n",
       "    <tr>\n",
       "      <th>3</th>\n",
       "      <td>1961.04</td>\n",
       "      <td>365775</td>\n",
       "      <td>NaN</td>\n",
       "      <td>0.013935</td>\n",
       "    </tr>\n",
       "    <tr>\n",
       "      <th>4</th>\n",
       "      <td>1962.01</td>\n",
       "      <td>375481</td>\n",
       "      <td>NaN</td>\n",
       "      <td>0.026535</td>\n",
       "    </tr>\n",
       "  </tbody>\n",
       "</table>\n",
       "</div>"
      ],
      "text/plain": [
       "      Date     GDP  UNEMP  GDP_Growth\n",
       "0  1961.01  343577    NaN         NaN\n",
       "1  1961.02  352261    NaN    0.025275\n",
       "2  1961.03  360748    NaN    0.024093\n",
       "3  1961.04  365775    NaN    0.013935\n",
       "4  1962.01  375481    NaN    0.026535"
      ]
     },
     "execution_count": 21,
     "metadata": {},
     "output_type": "execute_result"
    }
   ],
   "source": [
    "macro_data.head()"
   ]
  },
  {
   "cell_type": "code",
   "execution_count": 22,
   "metadata": {},
   "outputs": [],
   "source": [
    "macro_data['UNEMP_Change'] = macro_data['UNEMP'].pct_change()"
   ]
  },
  {
   "cell_type": "code",
   "execution_count": 23,
   "metadata": {},
   "outputs": [
    {
     "data": {
      "text/html": [
       "<div>\n",
       "<style scoped>\n",
       "    .dataframe tbody tr th:only-of-type {\n",
       "        vertical-align: middle;\n",
       "    }\n",
       "\n",
       "    .dataframe tbody tr th {\n",
       "        vertical-align: top;\n",
       "    }\n",
       "\n",
       "    .dataframe thead th {\n",
       "        text-align: right;\n",
       "    }\n",
       "</style>\n",
       "<table border=\"1\" class=\"dataframe\">\n",
       "  <thead>\n",
       "    <tr style=\"text-align: right;\">\n",
       "      <th></th>\n",
       "      <th>Date</th>\n",
       "      <th>GDP</th>\n",
       "      <th>UNEMP</th>\n",
       "      <th>GDP_Growth</th>\n",
       "      <th>UNEMP_Change</th>\n",
       "    </tr>\n",
       "  </thead>\n",
       "  <tbody>\n",
       "    <tr>\n",
       "      <th>0</th>\n",
       "      <td>1961.01</td>\n",
       "      <td>343577</td>\n",
       "      <td>NaN</td>\n",
       "      <td>NaN</td>\n",
       "      <td>NaN</td>\n",
       "    </tr>\n",
       "    <tr>\n",
       "      <th>1</th>\n",
       "      <td>1961.02</td>\n",
       "      <td>352261</td>\n",
       "      <td>NaN</td>\n",
       "      <td>0.025275</td>\n",
       "      <td>NaN</td>\n",
       "    </tr>\n",
       "    <tr>\n",
       "      <th>2</th>\n",
       "      <td>1961.03</td>\n",
       "      <td>360748</td>\n",
       "      <td>NaN</td>\n",
       "      <td>0.024093</td>\n",
       "      <td>NaN</td>\n",
       "    </tr>\n",
       "    <tr>\n",
       "      <th>3</th>\n",
       "      <td>1961.04</td>\n",
       "      <td>365775</td>\n",
       "      <td>NaN</td>\n",
       "      <td>0.013935</td>\n",
       "      <td>NaN</td>\n",
       "    </tr>\n",
       "    <tr>\n",
       "      <th>4</th>\n",
       "      <td>1962.01</td>\n",
       "      <td>375481</td>\n",
       "      <td>NaN</td>\n",
       "      <td>0.026535</td>\n",
       "      <td>NaN</td>\n",
       "    </tr>\n",
       "  </tbody>\n",
       "</table>\n",
       "</div>"
      ],
      "text/plain": [
       "      Date     GDP  UNEMP  GDP_Growth  UNEMP_Change\n",
       "0  1961.01  343577    NaN         NaN           NaN\n",
       "1  1961.02  352261    NaN    0.025275           NaN\n",
       "2  1961.03  360748    NaN    0.024093           NaN\n",
       "3  1961.04  365775    NaN    0.013935           NaN\n",
       "4  1962.01  375481    NaN    0.026535           NaN"
      ]
     },
     "execution_count": 23,
     "metadata": {},
     "output_type": "execute_result"
    }
   ],
   "source": [
    "macro_data.head()"
   ]
  },
  {
   "cell_type": "code",
   "execution_count": 24,
   "metadata": {},
   "outputs": [
    {
     "data": {
      "text/plain": [
       "<matplotlib.axes._subplots.AxesSubplot at 0x7f6e1ce2b668>"
      ]
     },
     "execution_count": 24,
     "metadata": {},
     "output_type": "execute_result"
    },
    {
     "data": {
      "image/png": "[encoded data removed]",
      "text/plain": [
       "<Figure size 432x288 with 1 Axes>"
      ]
     },
     "metadata": {
      "needs_background": "light"
     },
     "output_type": "display_data"
    }
   ],
   "source": [
    "macro_data['GDP_Growth'].plot()"
   ]
  },
  {
   "cell_type": "code",
   "execution_count": 25,
   "metadata": {},
   "outputs": [
    {
     "data": {
      "text/plain": [
       "<matplotlib.axes._subplots.AxesSubplot at 0x7f6e1c435780>"
      ]
     },
     "execution_count": 25,
     "metadata": {},
     "output_type": "execute_result"
    },
    {
     "data": {
      "image/png": "[encoded data removed]",
      "text/plain": [
       "<Figure size 432x288 with 1 Axes>"
      ]
     },
     "metadata": {
      "needs_background": "light"
     },
     "output_type": "display_data"
    }
   ],
   "source": [
    "macro_data['UNEMP_Change'].plot()"
   ]
  },
  {
   "cell_type": "code",
   "execution_count": 29,
   "metadata": {},
   "outputs": [],
   "source": [
    "macro_data['U1'] = macro_data['UNEMP_Change'].shift(1) # first lag of unemployment"
   ]
  },
  {
   "cell_type": "code",
   "execution_count": 30,
   "metadata": {},
   "outputs": [
    {
     "data": {
      "text/html": [
       "<div>\n",
       "<style scoped>\n",
       "    .dataframe tbody tr th:only-of-type {\n",
       "        vertical-align: middle;\n",
       "    }\n",
       "\n",
       "    .dataframe tbody tr th {\n",
       "        vertical-align: top;\n",
       "    }\n",
       "\n",
       "    .dataframe thead th {\n",
       "        text-align: right;\n",
       "    }\n",
       "</style>\n",
       "<table border=\"1\" class=\"dataframe\">\n",
       "  <thead>\n",
       "    <tr style=\"text-align: right;\">\n",
       "      <th></th>\n",
       "      <th>Date</th>\n",
       "      <th>GDP</th>\n",
       "      <th>UNEMP</th>\n",
       "      <th>GDP_Growth</th>\n",
       "      <th>UNEMP_Change</th>\n",
       "      <th>U1</th>\n",
       "    </tr>\n",
       "  </thead>\n",
       "  <tbody>\n",
       "    <tr>\n",
       "      <th>231</th>\n",
       "      <td>2018.04</td>\n",
       "      <td>2070133</td>\n",
       "      <td>5.673588</td>\n",
       "      <td>0.002441</td>\n",
       "      <td>-0.037461</td>\n",
       "      <td>-0.004235</td>\n",
       "    </tr>\n",
       "    <tr>\n",
       "      <th>232</th>\n",
       "      <td>2019.01</td>\n",
       "      <td>2074494</td>\n",
       "      <td>5.780928</td>\n",
       "      <td>0.002107</td>\n",
       "      <td>0.018919</td>\n",
       "      <td>-0.037461</td>\n",
       "    </tr>\n",
       "    <tr>\n",
       "      <th>233</th>\n",
       "      <td>2019.02</td>\n",
       "      <td>2092327</td>\n",
       "      <td>5.545867</td>\n",
       "      <td>0.008596</td>\n",
       "      <td>-0.040661</td>\n",
       "      <td>0.018919</td>\n",
       "    </tr>\n",
       "    <tr>\n",
       "      <th>234</th>\n",
       "      <td>2019.03</td>\n",
       "      <td>2099200</td>\n",
       "      <td>5.636725</td>\n",
       "      <td>0.003285</td>\n",
       "      <td>0.016383</td>\n",
       "      <td>-0.040661</td>\n",
       "    </tr>\n",
       "    <tr>\n",
       "      <th>235</th>\n",
       "      <td>2019.04</td>\n",
       "      <td>2106492</td>\n",
       "      <td>5.767707</td>\n",
       "      <td>0.003474</td>\n",
       "      <td>0.023237</td>\n",
       "      <td>0.016383</td>\n",
       "    </tr>\n",
       "  </tbody>\n",
       "</table>\n",
       "</div>"
      ],
      "text/plain": [
       "        Date      GDP     UNEMP  GDP_Growth  UNEMP_Change        U1\n",
       "231  2018.04  2070133  5.673588    0.002441     -0.037461 -0.004235\n",
       "232  2019.01  2074494  5.780928    0.002107      0.018919 -0.037461\n",
       "233  2019.02  2092327  5.545867    0.008596     -0.040661  0.018919\n",
       "234  2019.03  2099200  5.636725    0.003285      0.016383 -0.040661\n",
       "235  2019.04  2106492  5.767707    0.003474      0.023237  0.016383"
      ]
     },
     "execution_count": 30,
     "metadata": {},
     "output_type": "execute_result"
    }
   ],
   "source": [
    "macro_data.tail() # see end of dataaset to make sure we correctly lagged UNEMP_Change"
   ]
  },
  {
   "cell_type": "code",
   "execution_count": 31,
   "metadata": {},
   "outputs": [],
   "source": [
    "# Generate remaining three lags of UNEMP_Change\n",
    "macro_data['U2'] = macro_data['UNEMP_Change'].shift(2) \n",
    "macro_data['U3'] = macro_data['UNEMP_Change'].shift(3)\n",
    "macro_data['U4'] = macro_data['UNEMP_Change'].shift(4)\n",
    "\n",
    "# Generate four lags of GDP_Growth\n",
    "macro_data['G1'] = macro_data['GDP_Growth'].shift(1)\n",
    "macro_data['G2'] = macro_data['GDP_Growth'].shift(2)\n",
    "macro_data['G3'] = macro_data['GDP_Growth'].shift(3)\n",
    "macro_data['G4'] = macro_data['GDP_Growth'].shift(4)"
   ]
  },
  {
   "cell_type": "code",
   "execution_count": 32,
   "metadata": {},
   "outputs": [
    {
     "data": {
      "text/html": [
       "<div>\n",
       "<style scoped>\n",
       "    .dataframe tbody tr th:only-of-type {\n",
       "        vertical-align: middle;\n",
       "    }\n",
       "\n",
       "    .dataframe tbody tr th {\n",
       "        vertical-align: top;\n",
       "    }\n",
       "\n",
       "    .dataframe thead th {\n",
       "        text-align: right;\n",
       "    }\n",
       "</style>\n",
       "<table border=\"1\" class=\"dataframe\">\n",
       "  <thead>\n",
       "    <tr style=\"text-align: right;\">\n",
       "      <th></th>\n",
       "      <th>Date</th>\n",
       "      <th>GDP</th>\n",
       "      <th>UNEMP</th>\n",
       "      <th>GDP_Growth</th>\n",
       "      <th>UNEMP_Change</th>\n",
       "      <th>U1</th>\n",
       "      <th>U2</th>\n",
       "      <th>U3</th>\n",
       "      <th>U4</th>\n",
       "      <th>G1</th>\n",
       "      <th>G2</th>\n",
       "      <th>G3</th>\n",
       "      <th>G4</th>\n",
       "    </tr>\n",
       "  </thead>\n",
       "  <tbody>\n",
       "    <tr>\n",
       "      <th>231</th>\n",
       "      <td>2018.04</td>\n",
       "      <td>2070133</td>\n",
       "      <td>5.673588</td>\n",
       "      <td>0.002441</td>\n",
       "      <td>-0.037461</td>\n",
       "      <td>-0.004235</td>\n",
       "      <td>0.012761</td>\n",
       "      <td>-0.022776</td>\n",
       "      <td>-0.031052</td>\n",
       "      <td>0.006080</td>\n",
       "      <td>0.003906</td>\n",
       "      <td>0.005434</td>\n",
       "      <td>0.004353</td>\n",
       "    </tr>\n",
       "    <tr>\n",
       "      <th>232</th>\n",
       "      <td>2019.01</td>\n",
       "      <td>2074494</td>\n",
       "      <td>5.780928</td>\n",
       "      <td>0.002107</td>\n",
       "      <td>0.018919</td>\n",
       "      <td>-0.037461</td>\n",
       "      <td>-0.004235</td>\n",
       "      <td>0.012761</td>\n",
       "      <td>-0.022776</td>\n",
       "      <td>0.002441</td>\n",
       "      <td>0.006080</td>\n",
       "      <td>0.003906</td>\n",
       "      <td>0.005434</td>\n",
       "    </tr>\n",
       "    <tr>\n",
       "      <th>233</th>\n",
       "      <td>2019.02</td>\n",
       "      <td>2092327</td>\n",
       "      <td>5.545867</td>\n",
       "      <td>0.008596</td>\n",
       "      <td>-0.040661</td>\n",
       "      <td>0.018919</td>\n",
       "      <td>-0.037461</td>\n",
       "      <td>-0.004235</td>\n",
       "      <td>0.012761</td>\n",
       "      <td>0.002107</td>\n",
       "      <td>0.002441</td>\n",
       "      <td>0.006080</td>\n",
       "      <td>0.003906</td>\n",
       "    </tr>\n",
       "    <tr>\n",
       "      <th>234</th>\n",
       "      <td>2019.03</td>\n",
       "      <td>2099200</td>\n",
       "      <td>5.636725</td>\n",
       "      <td>0.003285</td>\n",
       "      <td>0.016383</td>\n",
       "      <td>-0.040661</td>\n",
       "      <td>0.018919</td>\n",
       "      <td>-0.037461</td>\n",
       "      <td>-0.004235</td>\n",
       "      <td>0.008596</td>\n",
       "      <td>0.002107</td>\n",
       "      <td>0.002441</td>\n",
       "      <td>0.006080</td>\n",
       "    </tr>\n",
       "    <tr>\n",
       "      <th>235</th>\n",
       "      <td>2019.04</td>\n",
       "      <td>2106492</td>\n",
       "      <td>5.767707</td>\n",
       "      <td>0.003474</td>\n",
       "      <td>0.023237</td>\n",
       "      <td>0.016383</td>\n",
       "      <td>-0.040661</td>\n",
       "      <td>0.018919</td>\n",
       "      <td>-0.037461</td>\n",
       "      <td>0.003285</td>\n",
       "      <td>0.008596</td>\n",
       "      <td>0.002107</td>\n",
       "      <td>0.002441</td>\n",
       "    </tr>\n",
       "  </tbody>\n",
       "</table>\n",
       "</div>"
      ],
      "text/plain": [
       "        Date      GDP     UNEMP  GDP_Growth  UNEMP_Change        U1        U2  \\\n",
       "231  2018.04  2070133  5.673588    0.002441     -0.037461 -0.004235  0.012761   \n",
       "232  2019.01  2074494  5.780928    0.002107      0.018919 -0.037461 -0.004235   \n",
       "233  2019.02  2092327  5.545867    0.008596     -0.040661  0.018919 -0.037461   \n",
       "234  2019.03  2099200  5.636725    0.003285      0.016383 -0.040661  0.018919   \n",
       "235  2019.04  2106492  5.767707    0.003474      0.023237  0.016383 -0.040661   \n",
       "\n",
       "           U3        U4        G1        G2        G3        G4  \n",
       "231 -0.022776 -0.031052  0.006080  0.003906  0.005434  0.004353  \n",
       "232  0.012761 -0.022776  0.002441  0.006080  0.003906  0.005434  \n",
       "233 -0.004235  0.012761  0.002107  0.002441  0.006080  0.003906  \n",
       "234 -0.037461 -0.004235  0.008596  0.002107  0.002441  0.006080  \n",
       "235  0.018919 -0.037461  0.003285  0.008596  0.002107  0.002441  "
      ]
     },
     "execution_count": 32,
     "metadata": {},
     "output_type": "execute_result"
    }
   ],
   "source": [
    "macro_data.tail()"
   ]
  },
  {
   "cell_type": "code",
   "execution_count": 33,
   "metadata": {},
   "outputs": [],
   "source": [
    "import statsmodels.api as sm"
   ]
  },
  {
   "cell_type": "code",
   "execution_count": 34,
   "metadata": {},
   "outputs": [
    {
     "name": "stderr",
     "output_type": "stream",
     "text": [
      "/srv/conda/envs/notebook/lib/python3.7/site-packages/numpy/core/fromnumeric.py:2542: FutureWarning: Method .ptp is deprecated and will be removed in a future version. Use numpy.ptp instead.\n",
      "  return ptp(axis=axis, out=out, **kwargs)\n"
     ]
    }
   ],
   "source": [
    "macro_data = sm.add_constant(macro_data)"
   ]
  },
  {
   "cell_type": "code",
   "execution_count": 35,
   "metadata": {},
   "outputs": [],
   "source": [
    "macro_data = macro_data.dropna()"
   ]
  },
  {
   "cell_type": "code",
   "execution_count": 36,
   "metadata": {},
   "outputs": [
    {
     "data": {
      "text/html": [
       "<div>\n",
       "<style scoped>\n",
       "    .dataframe tbody tr th:only-of-type {\n",
       "        vertical-align: middle;\n",
       "    }\n",
       "\n",
       "    .dataframe tbody tr th {\n",
       "        vertical-align: top;\n",
       "    }\n",
       "\n",
       "    .dataframe thead th {\n",
       "        text-align: right;\n",
       "    }\n",
       "</style>\n",
       "<table border=\"1\" class=\"dataframe\">\n",
       "  <thead>\n",
       "    <tr style=\"text-align: right;\">\n",
       "      <th></th>\n",
       "      <th>const</th>\n",
       "      <th>Date</th>\n",
       "      <th>GDP</th>\n",
       "      <th>UNEMP</th>\n",
       "      <th>GDP_Growth</th>\n",
       "      <th>UNEMP_Change</th>\n",
       "      <th>U1</th>\n",
       "      <th>U2</th>\n",
       "      <th>U3</th>\n",
       "      <th>U4</th>\n",
       "      <th>G1</th>\n",
       "      <th>G2</th>\n",
       "      <th>G3</th>\n",
       "      <th>G4</th>\n",
       "    </tr>\n",
       "  </thead>\n",
       "  <tbody>\n",
       "    <tr>\n",
       "      <th>65</th>\n",
       "      <td>1.0</td>\n",
       "      <td>1977.02</td>\n",
       "      <td>762578</td>\n",
       "      <td>7.843624</td>\n",
       "      <td>0.005372</td>\n",
       "      <td>0.011253</td>\n",
       "      <td>0.047159</td>\n",
       "      <td>0.035432</td>\n",
       "      <td>0.041525</td>\n",
       "      <td>-0.006798</td>\n",
       "      <td>0.014220</td>\n",
       "      <td>0.002061</td>\n",
       "      <td>0.004453</td>\n",
       "      <td>0.021638</td>\n",
       "    </tr>\n",
       "    <tr>\n",
       "      <th>66</th>\n",
       "      <td>1.0</td>\n",
       "      <td>1977.03</td>\n",
       "      <td>766612</td>\n",
       "      <td>8.191982</td>\n",
       "      <td>0.005290</td>\n",
       "      <td>0.044413</td>\n",
       "      <td>0.011253</td>\n",
       "      <td>0.047159</td>\n",
       "      <td>0.035432</td>\n",
       "      <td>0.041525</td>\n",
       "      <td>0.005372</td>\n",
       "      <td>0.014220</td>\n",
       "      <td>0.002061</td>\n",
       "      <td>0.004453</td>\n",
       "    </tr>\n",
       "    <tr>\n",
       "      <th>67</th>\n",
       "      <td>1.0</td>\n",
       "      <td>1977.04</td>\n",
       "      <td>778733</td>\n",
       "      <td>8.455303</td>\n",
       "      <td>0.015811</td>\n",
       "      <td>0.032144</td>\n",
       "      <td>0.044413</td>\n",
       "      <td>0.011253</td>\n",
       "      <td>0.047159</td>\n",
       "      <td>0.035432</td>\n",
       "      <td>0.005290</td>\n",
       "      <td>0.005372</td>\n",
       "      <td>0.014220</td>\n",
       "      <td>0.002061</td>\n",
       "    </tr>\n",
       "    <tr>\n",
       "      <th>68</th>\n",
       "      <td>1.0</td>\n",
       "      <td>1978.01</td>\n",
       "      <td>785281</td>\n",
       "      <td>8.379502</td>\n",
       "      <td>0.008409</td>\n",
       "      <td>-0.008965</td>\n",
       "      <td>0.032144</td>\n",
       "      <td>0.044413</td>\n",
       "      <td>0.011253</td>\n",
       "      <td>0.047159</td>\n",
       "      <td>0.015811</td>\n",
       "      <td>0.005290</td>\n",
       "      <td>0.005372</td>\n",
       "      <td>0.014220</td>\n",
       "    </tr>\n",
       "    <tr>\n",
       "      <th>69</th>\n",
       "      <td>1.0</td>\n",
       "      <td>1978.02</td>\n",
       "      <td>790668</td>\n",
       "      <td>8.478423</td>\n",
       "      <td>0.006860</td>\n",
       "      <td>0.011805</td>\n",
       "      <td>-0.008965</td>\n",
       "      <td>0.032144</td>\n",
       "      <td>0.044413</td>\n",
       "      <td>0.011253</td>\n",
       "      <td>0.008409</td>\n",
       "      <td>0.015811</td>\n",
       "      <td>0.005290</td>\n",
       "      <td>0.005372</td>\n",
       "    </tr>\n",
       "  </tbody>\n",
       "</table>\n",
       "</div>"
      ],
      "text/plain": [
       "    const     Date     GDP     UNEMP  GDP_Growth  UNEMP_Change        U1  \\\n",
       "65    1.0  1977.02  762578  7.843624    0.005372      0.011253  0.047159   \n",
       "66    1.0  1977.03  766612  8.191982    0.005290      0.044413  0.011253   \n",
       "67    1.0  1977.04  778733  8.455303    0.015811      0.032144  0.044413   \n",
       "68    1.0  1978.01  785281  8.379502    0.008409     -0.008965  0.032144   \n",
       "69    1.0  1978.02  790668  8.478423    0.006860      0.011805 -0.008965   \n",
       "\n",
       "          U2        U3        U4        G1        G2        G3        G4  \n",
       "65  0.035432  0.041525 -0.006798  0.014220  0.002061  0.004453  0.021638  \n",
       "66  0.047159  0.035432  0.041525  0.005372  0.014220  0.002061  0.004453  \n",
       "67  0.011253  0.047159  0.035432  0.005290  0.005372  0.014220  0.002061  \n",
       "68  0.044413  0.011253  0.047159  0.015811  0.005290  0.005372  0.014220  \n",
       "69  0.032144  0.044413  0.011253  0.008409  0.015811  0.005290  0.005372  "
      ]
     },
     "execution_count": 36,
     "metadata": {},
     "output_type": "execute_result"
    }
   ],
   "source": [
    "macro_data.head()"
   ]
  },
  {
   "cell_type": "code",
   "execution_count": 41,
   "metadata": {},
   "outputs": [],
   "source": [
    "adrl_model = sm.OLS(macro_data['UNEMP_Change'],macro_data[['const','U1','G1']]).fit()"
   ]
  },
  {
   "cell_type": "code",
   "execution_count": 42,
   "metadata": {},
   "outputs": [
    {
     "data": {
      "text/html": [
       "<table class=\"simpletable\">\n",
       "<caption>OLS Regression Results</caption>\n",
       "<tr>\n",
       "  <th>Dep. Variable:</th>      <td>UNEMP_Change</td>   <th>  R-squared:         </th> <td>   0.389</td>\n",
       "</tr>\n",
       "<tr>\n",
       "  <th>Model:</th>                   <td>OLS</td>       <th>  Adj. R-squared:    </th> <td>   0.381</td>\n",
       "</tr>\n",
       "<tr>\n",
       "  <th>Method:</th>             <td>Least Squares</td>  <th>  F-statistic:       </th> <td>   53.41</td>\n",
       "</tr>\n",
       "<tr>\n",
       "  <th>Date:</th>             <td>Tue, 14 Jan 2020</td> <th>  Prob (F-statistic):</th> <td>1.11e-18</td>\n",
       "</tr>\n",
       "<tr>\n",
       "  <th>Time:</th>                 <td>21:04:43</td>     <th>  Log-Likelihood:    </th> <td>  347.67</td>\n",
       "</tr>\n",
       "<tr>\n",
       "  <th>No. Observations:</th>      <td>   171</td>      <th>  AIC:               </th> <td>  -689.3</td>\n",
       "</tr>\n",
       "<tr>\n",
       "  <th>Df Residuals:</th>          <td>   168</td>      <th>  BIC:               </th> <td>  -679.9</td>\n",
       "</tr>\n",
       "<tr>\n",
       "  <th>Df Model:</th>              <td>     2</td>      <th>                     </th>     <td> </td>   \n",
       "</tr>\n",
       "<tr>\n",
       "  <th>Covariance Type:</th>      <td>nonrobust</td>    <th>                     </th>     <td> </td>   \n",
       "</tr>\n",
       "</table>\n",
       "<table class=\"simpletable\">\n",
       "<tr>\n",
       "    <td></td>       <th>coef</th>     <th>std err</th>      <th>t</th>      <th>P>|t|</th>  <th>[0.025</th>    <th>0.975]</th>  \n",
       "</tr>\n",
       "<tr>\n",
       "  <th>const</th> <td>    0.0126</td> <td>    0.004</td> <td>    3.556</td> <td> 0.000</td> <td>    0.006</td> <td>    0.020</td>\n",
       "</tr>\n",
       "<tr>\n",
       "  <th>U1</th>    <td>    0.3044</td> <td>    0.076</td> <td>    4.016</td> <td> 0.000</td> <td>    0.155</td> <td>    0.454</td>\n",
       "</tr>\n",
       "<tr>\n",
       "  <th>G1</th>    <td>   -2.1876</td> <td>    0.428</td> <td>   -5.113</td> <td> 0.000</td> <td>   -3.032</td> <td>   -1.343</td>\n",
       "</tr>\n",
       "</table>\n",
       "<table class=\"simpletable\">\n",
       "<tr>\n",
       "  <th>Omnibus:</th>       <td>27.324</td> <th>  Durbin-Watson:     </th> <td>   1.929</td>\n",
       "</tr>\n",
       "<tr>\n",
       "  <th>Prob(Omnibus):</th> <td> 0.000</td> <th>  Jarque-Bera (JB):  </th> <td>  46.805</td>\n",
       "</tr>\n",
       "<tr>\n",
       "  <th>Skew:</th>          <td> 0.806</td> <th>  Prob(JB):          </th> <td>6.86e-11</td>\n",
       "</tr>\n",
       "<tr>\n",
       "  <th>Kurtosis:</th>      <td> 4.993</td> <th>  Cond. No.          </th> <td>    176.</td>\n",
       "</tr>\n",
       "</table><br/><br/>Warnings:<br/>[1] Standard Errors assume that the covariance matrix of the errors is correctly specified."
      ],
      "text/plain": [
       "<class 'statsmodels.iolib.summary.Summary'>\n",
       "\"\"\"\n",
       "                            OLS Regression Results                            \n",
       "==============================================================================\n",
       "Dep. Variable:           UNEMP_Change   R-squared:                       0.389\n",
       "Model:                            OLS   Adj. R-squared:                  0.381\n",
       "Method:                 Least Squares   F-statistic:                     53.41\n",
       "Date:                Tue, 14 Jan 2020   Prob (F-statistic):           1.11e-18\n",
       "Time:                        21:04:43   Log-Likelihood:                 347.67\n",
       "No. Observations:                 171   AIC:                            -689.3\n",
       "Df Residuals:                     168   BIC:                            -679.9\n",
       "Df Model:                           2                                         \n",
       "Covariance Type:            nonrobust                                         \n",
       "==============================================================================\n",
       "                 coef    std err          t      P>|t|      [0.025      0.975]\n",
       "------------------------------------------------------------------------------\n",
       "const          0.0126      0.004      3.556      0.000       0.006       0.020\n",
       "U1             0.3044      0.076      4.016      0.000       0.155       0.454\n",
       "G1            -2.1876      0.428     -5.113      0.000      -3.032      -1.343\n",
       "==============================================================================\n",
       "Omnibus:                       27.324   Durbin-Watson:                   1.929\n",
       "Prob(Omnibus):                  0.000   Jarque-Bera (JB):               46.805\n",
       "Skew:                           0.806   Prob(JB):                     6.86e-11\n",
       "Kurtosis:                       4.993   Cond. No.                         176.\n",
       "==============================================================================\n",
       "\n",
       "Warnings:\n",
       "[1] Standard Errors assume that the covariance matrix of the errors is correctly specified.\n",
       "\"\"\""
      ]
     },
     "execution_count": 42,
     "metadata": {},
     "output_type": "execute_result"
    }
   ],
   "source": [
    "adrl_model.summary()"
   ]
  },
  {
   "cell_type": "code",
   "execution_count": 44,
   "metadata": {},
   "outputs": [
    {
     "data": {
      "text/plain": [
       "0.012073620399999999"
      ]
     },
     "execution_count": 44,
     "metadata": {},
     "output_type": "execute_result"
    }
   ],
   "source": [
    "0.0126+0.3044*0.023237-2.1876*0.003474"
   ]
  },
  {
   "cell_type": "code",
   "execution_count": 45,
   "metadata": {},
   "outputs": [
    {
     "data": {
      "text/html": [
       "<div>\n",
       "<style scoped>\n",
       "    .dataframe tbody tr th:only-of-type {\n",
       "        vertical-align: middle;\n",
       "    }\n",
       "\n",
       "    .dataframe tbody tr th {\n",
       "        vertical-align: top;\n",
       "    }\n",
       "\n",
       "    .dataframe thead th {\n",
       "        text-align: right;\n",
       "    }\n",
       "</style>\n",
       "<table border=\"1\" class=\"dataframe\">\n",
       "  <thead>\n",
       "    <tr style=\"text-align: right;\">\n",
       "      <th></th>\n",
       "      <th>const</th>\n",
       "      <th>Date</th>\n",
       "      <th>GDP</th>\n",
       "      <th>UNEMP</th>\n",
       "      <th>GDP_Growth</th>\n",
       "      <th>UNEMP_Change</th>\n",
       "      <th>U1</th>\n",
       "      <th>U2</th>\n",
       "      <th>U3</th>\n",
       "      <th>U4</th>\n",
       "      <th>G1</th>\n",
       "      <th>G2</th>\n",
       "      <th>G3</th>\n",
       "      <th>G4</th>\n",
       "    </tr>\n",
       "  </thead>\n",
       "  <tbody>\n",
       "    <tr>\n",
       "      <th>231</th>\n",
       "      <td>1.0</td>\n",
       "      <td>2018.04</td>\n",
       "      <td>2070133</td>\n",
       "      <td>5.673588</td>\n",
       "      <td>0.002441</td>\n",
       "      <td>-0.037461</td>\n",
       "      <td>-0.004235</td>\n",
       "      <td>0.012761</td>\n",
       "      <td>-0.022776</td>\n",
       "      <td>-0.031052</td>\n",
       "      <td>0.006080</td>\n",
       "      <td>0.003906</td>\n",
       "      <td>0.005434</td>\n",
       "      <td>0.004353</td>\n",
       "    </tr>\n",
       "    <tr>\n",
       "      <th>232</th>\n",
       "      <td>1.0</td>\n",
       "      <td>2019.01</td>\n",
       "      <td>2074494</td>\n",
       "      <td>5.780928</td>\n",
       "      <td>0.002107</td>\n",
       "      <td>0.018919</td>\n",
       "      <td>-0.037461</td>\n",
       "      <td>-0.004235</td>\n",
       "      <td>0.012761</td>\n",
       "      <td>-0.022776</td>\n",
       "      <td>0.002441</td>\n",
       "      <td>0.006080</td>\n",
       "      <td>0.003906</td>\n",
       "      <td>0.005434</td>\n",
       "    </tr>\n",
       "    <tr>\n",
       "      <th>233</th>\n",
       "      <td>1.0</td>\n",
       "      <td>2019.02</td>\n",
       "      <td>2092327</td>\n",
       "      <td>5.545867</td>\n",
       "      <td>0.008596</td>\n",
       "      <td>-0.040661</td>\n",
       "      <td>0.018919</td>\n",
       "      <td>-0.037461</td>\n",
       "      <td>-0.004235</td>\n",
       "      <td>0.012761</td>\n",
       "      <td>0.002107</td>\n",
       "      <td>0.002441</td>\n",
       "      <td>0.006080</td>\n",
       "      <td>0.003906</td>\n",
       "    </tr>\n",
       "    <tr>\n",
       "      <th>234</th>\n",
       "      <td>1.0</td>\n",
       "      <td>2019.03</td>\n",
       "      <td>2099200</td>\n",
       "      <td>5.636725</td>\n",
       "      <td>0.003285</td>\n",
       "      <td>0.016383</td>\n",
       "      <td>-0.040661</td>\n",
       "      <td>0.018919</td>\n",
       "      <td>-0.037461</td>\n",
       "      <td>-0.004235</td>\n",
       "      <td>0.008596</td>\n",
       "      <td>0.002107</td>\n",
       "      <td>0.002441</td>\n",
       "      <td>0.006080</td>\n",
       "    </tr>\n",
       "    <tr>\n",
       "      <th>235</th>\n",
       "      <td>1.0</td>\n",
       "      <td>2019.04</td>\n",
       "      <td>2106492</td>\n",
       "      <td>5.767707</td>\n",
       "      <td>0.003474</td>\n",
       "      <td>0.023237</td>\n",
       "      <td>0.016383</td>\n",
       "      <td>-0.040661</td>\n",
       "      <td>0.018919</td>\n",
       "      <td>-0.037461</td>\n",
       "      <td>0.003285</td>\n",
       "      <td>0.008596</td>\n",
       "      <td>0.002107</td>\n",
       "      <td>0.002441</td>\n",
       "    </tr>\n",
       "  </tbody>\n",
       "</table>\n",
       "</div>"
      ],
      "text/plain": [
       "     const     Date      GDP     UNEMP  GDP_Growth  UNEMP_Change        U1  \\\n",
       "231    1.0  2018.04  2070133  5.673588    0.002441     -0.037461 -0.004235   \n",
       "232    1.0  2019.01  2074494  5.780928    0.002107      0.018919 -0.037461   \n",
       "233    1.0  2019.02  2092327  5.545867    0.008596     -0.040661  0.018919   \n",
       "234    1.0  2019.03  2099200  5.636725    0.003285      0.016383 -0.040661   \n",
       "235    1.0  2019.04  2106492  5.767707    0.003474      0.023237  0.016383   \n",
       "\n",
       "           U2        U3        U4        G1        G2        G3        G4  \n",
       "231  0.012761 -0.022776 -0.031052  0.006080  0.003906  0.005434  0.004353  \n",
       "232 -0.004235  0.012761 -0.022776  0.002441  0.006080  0.003906  0.005434  \n",
       "233 -0.037461 -0.004235  0.012761  0.002107  0.002441  0.006080  0.003906  \n",
       "234  0.018919 -0.037461 -0.004235  0.008596  0.002107  0.002441  0.006080  \n",
       "235 -0.040661  0.018919 -0.037461  0.003285  0.008596  0.002107  0.002441  "
      ]
     },
     "execution_count": 45,
     "metadata": {},
     "output_type": "execute_result"
    }
   ],
   "source": [
    "macro_data.tail()"
   ]
  },
  {
   "cell_type": "code",
   "execution_count": 46,
   "metadata": {},
   "outputs": [
    {
     "data": {
      "text/plain": [
       "5.837344104896423"
      ]
     },
     "execution_count": 46,
     "metadata": {},
     "output_type": "execute_result"
    }
   ],
   "source": [
    "5.767707*(1+0.012073620399999999)"
   ]
  },
  {
   "cell_type": "code",
   "execution_count": null,
   "metadata": {},
   "outputs": [],
   "source": []
  }
 ],
 "metadata": {
  "kernelspec": {
   "display_name": "Python 3",
   "language": "python",
   "name": "python3"
  },
  "language_info": {
   "codemirror_mode": {
    "name": "ipython",
    "version": 3
   },
   "file_extension": ".py",
   "mimetype": "text/x-python",
   "name": "python",
   "nbconvert_exporter": "python",
   "pygments_lexer": "ipython3",
   "version": "3.7.3"
  }
 },
 "nbformat": 4,
 "nbformat_minor": 2
}
