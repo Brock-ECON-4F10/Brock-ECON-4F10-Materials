{
 "cells": [
  {
   "cell_type": "markdown",
   "metadata": {},
   "source": [
    "Brock University\n",
    "ECON 4F10 - Applied Research Methods in Economics"
   ]
  },
  {
   "cell_type": "markdown",
   "metadata": {},
   "source": [
    "# Defining a simple user function:"
   ]
  },
  {
   "cell_type": "markdown",
   "metadata": {},
   "source": [
    "Add two numbers together"
   ]
  },
  {
   "cell_type": "code",
   "execution_count": 6,
   "metadata": {},
   "outputs": [],
   "source": [
    "def my_first_function(a,b): # function definition\n",
    "    return a+b"
   ]
  },
  {
   "cell_type": "code",
   "execution_count": 7,
   "metadata": {},
   "outputs": [
    {
     "name": "stdout",
     "output_type": "stream",
     "text": [
      "3\n"
     ]
    }
   ],
   "source": [
    "print(my_first_function(1,2)) # display function output"
   ]
  },
  {
   "cell_type": "markdown",
   "metadata": {},
   "source": [
    "Find arbitrary root of a number"
   ]
  },
  {
   "cell_type": "code",
   "execution_count": 8,
   "metadata": {},
   "outputs": [],
   "source": [
    "def any_root(a,b): # function definition\n",
    "    return a**(1/b)"
   ]
  },
  {
   "cell_type": "code",
   "execution_count": 9,
   "metadata": {},
   "outputs": [
    {
     "name": "stdout",
     "output_type": "stream",
     "text": [
      "3.0\n"
     ]
    }
   ],
   "source": [
    "print(any_root(9,2)) # Find square root of 9"
   ]
  },
  {
   "cell_type": "code",
   "execution_count": 10,
   "metadata": {},
   "outputs": [
    {
     "name": "stdout",
     "output_type": "stream",
     "text": [
      "2.080083823051904\n"
     ]
    }
   ],
   "source": [
    "print(any_root(9,3)) # Find cubic root of 9"
   ]
  },
  {
   "cell_type": "markdown",
   "metadata": {},
   "source": [
    "Calculate cumulative compounded return (discrete compounding)"
   ]
  },
  {
   "cell_type": "code",
   "execution_count": 11,
   "metadata": {},
   "outputs": [],
   "source": [
    "# starting_value (float) - initial value of an investment\n",
    "# rate (float) - period interest rate (e.g. 0.01 for 1%)\n",
    "# nper (float) - number of periods to compound\n",
    "\n",
    "def compounded_return(starting_value,rate,nper):\n",
    "    cumulative_return = starting_value * (1+rate)**nper\n",
    "    return cumulative_return"
   ]
  },
  {
   "cell_type": "markdown",
   "metadata": {},
   "source": [
    "Show how $100 would grow over 20 years"
   ]
  },
  {
   "cell_type": "code",
   "execution_count": 12,
   "metadata": {},
   "outputs": [
    {
     "name": "stdout",
     "output_type": "stream",
     "text": [
      "In  1  years, I will have $ 105.0\n",
      "In  2  years, I will have $ 110.25\n",
      "In  3  years, I will have $ 115.76250000000002\n",
      "In  4  years, I will have $ 121.55062500000003\n",
      "In  5  years, I will have $ 127.62815625000003\n",
      "In  6  years, I will have $ 134.00956406250003\n",
      "In  7  years, I will have $ 140.71004226562505\n",
      "In  8  years, I will have $ 147.7455443789063\n",
      "In  9  years, I will have $ 155.13282159785163\n",
      "In  10  years, I will have $ 162.8894626777442\n",
      "In  11  years, I will have $ 171.0339358116314\n",
      "In  12  years, I will have $ 179.585632602213\n",
      "In  13  years, I will have $ 188.56491423232367\n",
      "In  14  years, I will have $ 197.99315994393987\n",
      "In  15  years, I will have $ 207.89281794113688\n",
      "In  16  years, I will have $ 218.2874588381937\n",
      "In  17  years, I will have $ 229.20183178010342\n",
      "In  18  years, I will have $ 240.66192336910856\n",
      "In  19  years, I will have $ 252.69501953756404\n"
     ]
    }
   ],
   "source": [
    "starting_money = 100;\n",
    "interest_rate = 0.05;\n",
    "\n",
    "for i in range(1,20):\n",
    "    print('In ', i, ' years, I will have $', compounded_return(starting_money,interest_rate,i))    "
   ]
  },
  {
   "cell_type": "code",
   "execution_count": null,
   "metadata": {},
   "outputs": [],
   "source": []
  }
 ],
 "metadata": {
  "kernelspec": {
   "display_name": "Python 3",
   "language": "python",
   "name": "python3"
  },
  "language_info": {
   "codemirror_mode": {
    "name": "ipython",
    "version": 3
   },
   "file_extension": ".py",
   "mimetype": "text/x-python",
   "name": "python",
   "nbconvert_exporter": "python",
   "pygments_lexer": "ipython3",
   "version": "3.7.3"
  }
 },
 "nbformat": 4,
 "nbformat_minor": 2
}
