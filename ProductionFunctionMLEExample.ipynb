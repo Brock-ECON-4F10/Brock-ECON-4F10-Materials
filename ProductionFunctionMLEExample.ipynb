{
 "cells": [
  {
   "cell_type": "code",
   "execution_count": 3,
   "metadata": {},
   "outputs": [],
   "source": [
    "import numpy as np # numpy to generate random numbers\n",
    "from scipy.optimize import minimize # scipy.optimize for the optimizer\n",
    "import pandas as pd"
   ]
  },
  {
   "cell_type": "code",
   "execution_count": 4,
   "metadata": {},
   "outputs": [],
   "source": [
    "d = pd.read_csv('USProductionFunctionData.csv')"
   ]
  },
  {
   "cell_type": "code",
   "execution_count": 7,
   "metadata": {},
   "outputs": [
    {
     "data": {
      "text/html": [
       "<div>\n",
       "<style scoped>\n",
       "    .dataframe tbody tr th:only-of-type {\n",
       "        vertical-align: middle;\n",
       "    }\n",
       "\n",
       "    .dataframe tbody tr th {\n",
       "        vertical-align: top;\n",
       "    }\n",
       "\n",
       "    .dataframe thead th {\n",
       "        text-align: right;\n",
       "    }\n",
       "</style>\n",
       "<table border=\"1\" class=\"dataframe\">\n",
       "  <thead>\n",
       "    <tr style=\"text-align: right;\">\n",
       "      <th></th>\n",
       "      <th>State</th>\n",
       "      <th>GDP</th>\n",
       "      <th>Employment</th>\n",
       "      <th>Capital</th>\n",
       "    </tr>\n",
       "  </thead>\n",
       "  <tbody>\n",
       "    <tr>\n",
       "      <th>0</th>\n",
       "      <td>Alabama</td>\n",
       "      <td>169689</td>\n",
       "      <td>1952091</td>\n",
       "      <td>137904</td>\n",
       "    </tr>\n",
       "    <tr>\n",
       "      <th>1</th>\n",
       "      <td>Alaska</td>\n",
       "      <td>49194</td>\n",
       "      <td>310810</td>\n",
       "      <td>33407</td>\n",
       "    </tr>\n",
       "    <tr>\n",
       "      <th>2</th>\n",
       "      <td>Arizona</td>\n",
       "      <td>262380</td>\n",
       "      <td>2647691</td>\n",
       "      <td>196447</td>\n",
       "    </tr>\n",
       "    <tr>\n",
       "      <th>3</th>\n",
       "      <td>Arkansas</td>\n",
       "      <td>103592</td>\n",
       "      <td>1173852</td>\n",
       "      <td>84571</td>\n",
       "    </tr>\n",
       "    <tr>\n",
       "      <th>4</th>\n",
       "      <td>California</td>\n",
       "      <td>1949059</td>\n",
       "      <td>15640575</td>\n",
       "      <td>1562427</td>\n",
       "    </tr>\n",
       "  </tbody>\n",
       "</table>\n",
       "</div>"
      ],
      "text/plain": [
       "        State      GDP  Employment  Capital\n",
       "0     Alabama   169689     1952091   137904\n",
       "1      Alaska    49194      310810    33407\n",
       "2     Arizona   262380     2647691   196447\n",
       "3    Arkansas   103592     1173852    84571\n",
       "4  California  1949059    15640575  1562427"
      ]
     },
     "execution_count": 7,
     "metadata": {},
     "output_type": "execute_result"
    }
   ],
   "source": [
    "d.head()"
   ]
  },
  {
   "cell_type": "code",
   "execution_count": 10,
   "metadata": {},
   "outputs": [
    {
     "data": {
      "text/plain": [
       "51"
      ]
     },
     "execution_count": 10,
     "metadata": {},
     "output_type": "execute_result"
    }
   ],
   "source": []
  },
  {
   "cell_type": "code",
   "execution_count": 29,
   "metadata": {},
   "outputs": [],
   "source": [
    "def logLik(x):\n",
    "    L = len(d)*np.log(x[0]) + np.sum((d['GDP']-x[1]*(d['Employment']**x[2])*(d['Capital']**(x[3])))**2)/x[0]\n",
    "    return L"
   ]
  },
  {
   "cell_type": "code",
   "execution_count": 30,
   "metadata": {},
   "outputs": [
    {
     "data": {
      "text/plain": [
       "342663.2000885738"
      ]
     },
     "execution_count": 30,
     "metadata": {},
     "output_type": "execute_result"
    }
   ],
   "source": [
    "np.std(d['GDP'])"
   ]
  },
  {
   "cell_type": "code",
   "execution_count": 36,
   "metadata": {},
   "outputs": [],
   "source": [
    "x0 = np.array([35000,1,0.5,0.5])"
   ]
  },
  {
   "cell_type": "code",
   "execution_count": 38,
   "metadata": {},
   "outputs": [
    {
     "name": "stdout",
     "output_type": "stream",
     "text": [
      "Optimization terminated successfully.\n",
      "         Current function value: 1108.047503\n",
      "         Iterations: 3069\n",
      "         Function evaluations: 5137\n"
     ]
    }
   ],
   "source": [
    "es = minimize(logLik, x0, method='nelder-mead', options={'xatol': 1e-8, 'disp': True,'maxiter': 4e3})"
   ]
  },
  {
   "cell_type": "code",
   "execution_count": 39,
   "metadata": {},
   "outputs": [
    {
     "data": {
      "text/plain": [
       " final_simplex: (array([[1.00316085e+09, 7.59160910e-02, 7.53477392e-01, 3.19183688e-01],\n",
       "       [1.00316085e+09, 7.59160910e-02, 7.53477392e-01, 3.19183688e-01],\n",
       "       [1.00316085e+09, 7.59160910e-02, 7.53477392e-01, 3.19183688e-01],\n",
       "       [1.00316085e+09, 7.59160910e-02, 7.53477392e-01, 3.19183688e-01],\n",
       "       [1.00316085e+09, 7.59160910e-02, 7.53477392e-01, 3.19183688e-01]]), array([1108.04750266, 1108.04750266, 1108.04750266, 1108.04750266,\n",
       "       1108.04750266]))\n",
       "           fun: 1108.0475026577124\n",
       "       message: 'Optimization terminated successfully.'\n",
       "          nfev: 5137\n",
       "           nit: 3069\n",
       "        status: 0\n",
       "       success: True\n",
       "             x: array([1.00316085e+09, 7.59160910e-02, 7.53477392e-01, 3.19183688e-01])"
      ]
     },
     "execution_count": 39,
     "metadata": {},
     "output_type": "execute_result"
    }
   ],
   "source": [
    "es"
   ]
  },
  {
   "cell_type": "code",
   "execution_count": null,
   "metadata": {},
   "outputs": [],
   "source": []
  }
 ],
 "metadata": {
  "kernelspec": {
   "display_name": "Python 3",
   "language": "python",
   "name": "python3"
  },
  "language_info": {
   "codemirror_mode": {
    "name": "ipython",
    "version": 3
   },
   "file_extension": ".py",
   "mimetype": "text/x-python",
   "name": "python",
   "nbconvert_exporter": "python",
   "pygments_lexer": "ipython3",
   "version": "3.7.6"
  }
 },
 "nbformat": 4,
 "nbformat_minor": 4
}
