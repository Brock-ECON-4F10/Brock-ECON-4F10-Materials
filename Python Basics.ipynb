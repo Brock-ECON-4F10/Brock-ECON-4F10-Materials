{
 "cells": [
  {
   "cell_type": "markdown",
   "metadata": {},
   "source": [
    "# Variable Basics"
   ]
  },
  {
   "cell_type": "code",
   "execution_count": null,
   "metadata": {},
   "outputs": [],
   "source": [
    "# This is a comment in Python.If you run this -- nothing happens."
   ]
  },
  {
   "cell_type": "code",
   "execution_count": 1,
   "metadata": {},
   "outputs": [
    {
     "name": "stdout",
     "output_type": "stream",
     "text": [
      "Hello world!\n"
     ]
    }
   ],
   "source": [
    "# Display a piece of text:\n",
    "print('Hello world!')"
   ]
  },
  {
   "cell_type": "code",
   "execution_count": 2,
   "metadata": {},
   "outputs": [],
   "source": [
    "# Assign a value to a variable:\n",
    "a = 5;"
   ]
  },
  {
   "cell_type": "code",
   "execution_count": 3,
   "metadata": {},
   "outputs": [
    {
     "name": "stdout",
     "output_type": "stream",
     "text": [
      "5\n"
     ]
    }
   ],
   "source": [
    "# Print value of a variable:\n",
    "print(a)"
   ]
  },
  {
   "cell_type": "code",
   "execution_count": 4,
   "metadata": {},
   "outputs": [
    {
     "name": "stdout",
     "output_type": "stream",
     "text": [
      "a equals five\n"
     ]
    }
   ],
   "source": [
    "# Check value of a variable (if construct):\n",
    "if a==5:\n",
    "    print('a equals five')"
   ]
  },
  {
   "cell_type": "code",
   "execution_count": 11,
   "metadata": {},
   "outputs": [
    {
     "name": "stdout",
     "output_type": "stream",
     "text": [
      "Enter some value for a=5\n"
     ]
    }
   ],
   "source": [
    "# Read value of a variable from user input:\n",
    "a = input(\"Enter some value for a=\")"
   ]
  },
  {
   "cell_type": "code",
   "execution_count": 16,
   "metadata": {},
   "outputs": [
    {
     "name": "stdout",
     "output_type": "stream",
     "text": [
      "a = 5\n"
     ]
    }
   ],
   "source": [
    "# Display user input:\n",
    "print('a =',a)"
   ]
  },
  {
   "cell_type": "code",
   "execution_count": 17,
   "metadata": {},
   "outputs": [
    {
     "name": "stdout",
     "output_type": "stream",
     "text": [
      "<class 'str'>\n"
     ]
    }
   ],
   "source": [
    "# Determine a's variable type:\n",
    "print(type(a))"
   ]
  },
  {
   "cell_type": "code",
   "execution_count": 21,
   "metadata": {},
   "outputs": [
    {
     "name": "stdout",
     "output_type": "stream",
     "text": [
      "<class 'float'>\n"
     ]
    }
   ],
   "source": [
    "# Attempt to \"typecast\" - convert variable to number and show updated type:\n",
    "a = float(a)\n",
    "print(type(a))"
   ]
  },
  {
   "cell_type": "code",
   "execution_count": 20,
   "metadata": {},
   "outputs": [
    {
     "name": "stdout",
     "output_type": "stream",
     "text": [
      "a equals five\n"
     ]
    }
   ],
   "source": [
    "# Display message conditional on user input:\n",
    "if a > 5:\n",
    "    print('a is bigger than five')\n",
    "elif a<5:\n",
    "    print('a is smaller than five')\n",
    "else:\n",
    "    print('a equals five')        "
   ]
  },
  {
   "cell_type": "markdown",
   "metadata": {},
   "source": [
    "# Something (moderately) useful: investment return calculator"
   ]
  },
  {
   "cell_type": "code",
   "execution_count": 38,
   "metadata": {},
   "outputs": [
    {
     "name": "stdout",
     "output_type": "stream",
     "text": [
      "Hello! What's your name?Ivan\n",
      "Ivan, how much would you like to invest?50000\n",
      "How long will you keep your investment, in years?10\n",
      "What's the annual return you expect, in percent?5\n",
      "Ivan , in  10.0  years your investment will grow to  81444.7313388721  dollars.\n",
      "It will double every  14.206699082890461 years.\n"
     ]
    }
   ],
   "source": [
    "# Read user inputs\n",
    "\n",
    "name = input('Hello! What\\'s your name?')\n",
    "amount = input(name+', how much would you like to invest?')\n",
    "duration = input('How long will you keep your investment, in years?')\n",
    "interest = input('What\\'s the annual return you expect, in percent?')\n",
    "\n",
    "# Convert to float\n",
    "\n",
    "amount = float(amount)\n",
    "duration = float(duration)\n",
    "interest = float(interest)\n",
    "\n",
    "# Calculate end investment value and time to double\n",
    "\n",
    "import math # import \"math\" library containing natural logarithm function\n",
    "\n",
    "final_value = amount*(1+interest/100)**duration\n",
    "time_to_double = math.log(2)/math.log(1+interest/100)\n",
    "\n",
    "print(name,', in ',duration,' years your investment will grow to ',final_value,' dollars.')\n",
    "print('It will double every ',time_to_double, 'years.')"
   ]
  },
  {
   "cell_type": "code",
   "execution_count": 35,
   "metadata": {},
   "outputs": [],
   "source": []
  },
  {
   "cell_type": "code",
   "execution_count": null,
   "metadata": {},
   "outputs": [],
   "source": []
  }
 ],
 "metadata": {
  "kernelspec": {
   "display_name": "Python 3",
   "language": "python",
   "name": "python3"
  },
  "language_info": {
   "codemirror_mode": {
    "name": "ipython",
    "version": 3
   },
   "file_extension": ".py",
   "mimetype": "text/x-python",
   "name": "python",
   "nbconvert_exporter": "python",
   "pygments_lexer": "ipython3",
   "version": "3.7.3"
  }
 },
 "nbformat": 4,
 "nbformat_minor": 2
}
