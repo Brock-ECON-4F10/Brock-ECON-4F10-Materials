{
 "cells": [
  {
   "cell_type": "markdown",
   "metadata": {},
   "source": [
    "# Import packages"
   ]
  },
  {
   "cell_type": "code",
   "execution_count": 146,
   "metadata": {},
   "outputs": [],
   "source": [
    "import numpy as np # numpy to generate random numbers\n",
    "from scipy.optimize import minimize # scipy.optimize for the optimizer"
   ]
  },
  {
   "cell_type": "markdown",
   "metadata": {},
   "source": [
    "# Set parameters and generate sample"
   ]
  },
  {
   "cell_type": "code",
   "execution_count": 147,
   "metadata": {},
   "outputs": [],
   "source": [
    "mean = 5\n",
    "st_dev = 5\n",
    "sample_size = 100"
   ]
  },
  {
   "cell_type": "code",
   "execution_count": 148,
   "metadata": {},
   "outputs": [],
   "source": [
    "sample = np.random.normal(mean,st_dev,sample_size)"
   ]
  },
  {
   "cell_type": "code",
   "execution_count": 149,
   "metadata": {},
   "outputs": [
    {
     "data": {
      "text/plain": [
       "array([-0.31520083, -3.43949432,  5.78128436,  4.98808424,  5.3174978 ,\n",
       "        8.58786284,  6.83308816, 11.35965481,  2.71635355,  1.48634011,\n",
       "       12.1317345 ,  3.18980113,  0.20293359,  1.34336362,  3.77126379,\n",
       "       -0.13926695,  5.66897302,  3.88640795,  4.6960748 ,  2.67227288,\n",
       "        5.78172466,  5.41654914,  4.85459884,  7.94183508,  5.11019858,\n",
       "       -2.04332329, -4.28047877,  2.640037  ,  0.23105784,  4.49472332,\n",
       "        3.4213361 , 10.08754149,  6.78389355, 11.96634981,  2.03458619,\n",
       "        8.01005477,  6.66015871,  5.10921952, 11.27465417,  6.50331507,\n",
       "       -5.36424696,  7.42420913,  8.85878829, 11.08674874, 22.47051329,\n",
       "       12.13010336, -0.3393019 , -2.33605566,  5.22026735,  2.96438392,\n",
       "        3.2167891 ,  1.36753371,  4.38958129, -1.264782  ,  0.08850871,\n",
       "       11.96459857,  3.19872267, -1.07471823, -1.29053509,  1.46662174,\n",
       "        6.93130313,  6.44403961, -2.95523113,  5.95959685,  7.30631246,\n",
       "        7.12664799,  6.0430929 ,  9.52340628,  3.89853568, -1.89828723,\n",
       "        7.78103542,  1.16713623,  4.3701471 , 13.67508881, 13.93760786,\n",
       "        1.09082713,  5.75690319,  4.92754681,  5.84850919, 11.57890026,\n",
       "        2.33468508,  9.15316992, -0.21902732,  0.90673849,  5.61011188,\n",
       "       13.32327042, -4.93088799,  3.27853312,  3.65187486, -0.79782538,\n",
       "        1.20079414, -3.22593239,  8.32356633,  2.62620729, -1.00444625,\n",
       "       -2.97028187,  6.02183847,  8.02845908,  1.37628343,  5.87694111])"
      ]
     },
     "execution_count": 149,
     "metadata": {},
     "output_type": "execute_result"
    }
   ],
   "source": [
    "sample"
   ]
  },
  {
   "cell_type": "markdown",
   "metadata": {},
   "source": [
    "# Re-estimate parameters using Maximum Likelihood"
   ]
  },
  {
   "cell_type": "code",
   "execution_count": 150,
   "metadata": {},
   "outputs": [],
   "source": [
    "def logLik(x):\n",
    "    L = len(sample)*np.log(x[1]) + np.sum((sample-x[0])**2)/x[1]\n",
    "    return L"
   ]
  },
  {
   "cell_type": "code",
   "execution_count": 151,
   "metadata": {},
   "outputs": [
    {
     "name": "stdout",
     "output_type": "stream",
     "text": [
      "527.496897773686\n"
     ]
    }
   ],
   "source": [
    "print(logLik(np.array([5,7])))"
   ]
  },
  {
   "cell_type": "code",
   "execution_count": 152,
   "metadata": {},
   "outputs": [],
   "source": [
    "x0 = np.array([0,1]) # starting point for optimization"
   ]
  },
  {
   "cell_type": "code",
   "execution_count": 153,
   "metadata": {},
   "outputs": [
    {
     "name": "stdout",
     "output_type": "stream",
     "text": [
      "Optimization terminated successfully.\n",
      "         Current function value: 413.504725\n",
      "         Iterations: 104\n",
      "         Function evaluations: 207\n"
     ]
    }
   ],
   "source": [
    "es = minimize(logLik, x0, method='nelder-mead', options={'xatol': 1e-8, 'disp': True})"
   ]
  },
  {
   "cell_type": "code",
   "execution_count": 154,
   "metadata": {},
   "outputs": [
    {
     "data": {
      "text/plain": [
       "(array([[ 4.43991988, 22.98972222],\n",
       "        [ 4.43991988, 22.98972221],\n",
       "        [ 4.43991988, 22.98972222]]),\n",
       " array([413.50472461, 413.50472461, 413.50472461]))"
      ]
     },
     "execution_count": 154,
     "metadata": {},
     "output_type": "execute_result"
    }
   ],
   "source": [
    "es.final_simplex"
   ]
  },
  {
   "cell_type": "code",
   "execution_count": null,
   "metadata": {},
   "outputs": [],
   "source": []
  }
 ],
 "metadata": {
  "kernelspec": {
   "display_name": "Python 3",
   "language": "python",
   "name": "python3"
  },
  "language_info": {
   "codemirror_mode": {
    "name": "ipython",
    "version": 3
   },
   "file_extension": ".py",
   "mimetype": "text/x-python",
   "name": "python",
   "nbconvert_exporter": "python",
   "pygments_lexer": "ipython3",
   "version": "3.7.3"
  }
 },
 "nbformat": 4,
 "nbformat_minor": 2
}
